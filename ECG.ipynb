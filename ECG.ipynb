{
  "nbformat": 4,
  "nbformat_minor": 0,
  "metadata": {
    "colab": {
      "name": "ECG.ipynb",
      "provenance": [],
      "collapsed_sections": [],
      "mount_file_id": "1zf1GbJfs_mc6FXlECOOV7Pby0u1ypyoM",
      "authorship_tag": "ABX9TyOZ5yGnJRwAAUk1s7lPV9Rg",
      "include_colab_link": true
    },
    "kernelspec": {
      "name": "python3",
      "display_name": "Python 3"
    },
    "language_info": {
      "name": "python"
    },
    "accelerator": "GPU"
  },
  "cells": [
    {
      "cell_type": "markdown",
      "metadata": {
        "id": "view-in-github",
        "colab_type": "text"
      },
      "source": [
        "<a href=\"https://colab.research.google.com/github/ViktoriiaKharchenko/Neural-Networks/blob/master/ECG.ipynb\" target=\"_parent\"><img src=\"https://colab.research.google.com/assets/colab-badge.svg\" alt=\"Open In Colab\"/></a>"
      ]
    },
    {
      "cell_type": "code",
      "metadata": {
        "id": "LmDPtWoIKQUc"
      },
      "source": [
        "import numpy as np\n",
        "from os import listdir\n",
        "from os.path import isfile, join\n",
        "import pandas as pd\n",
        "import scipy.io as sio"
      ],
      "execution_count": 1,
      "outputs": []
    },
    {
      "cell_type": "code",
      "metadata": {
        "colab": {
          "base_uri": "https://localhost:8080/"
        },
        "id": "TD5lixX8L0T-",
        "outputId": "df526e51-3e0c-4333-d740-92bce40bc02e"
      },
      "source": [
        "number_of_classes = 4\n",
        "mypath = 'drive/MyDrive/training2017/'\n",
        "onlyfiles = [f for f in listdir(mypath) if (isfile(join(mypath, f)) and f[0] == 'A')]\n",
        "bats = [f for f in onlyfiles if f[7] == 'm']\n",
        "check = 9000\n",
        "mats = [f for f in bats if (np.shape(sio.loadmat(mypath + f)['val'])[1] >= check)]\n",
        "size = len(mats)\n",
        "print('Training size is ', len(mats))\n",
        "X = np.zeros((len(mats), check))\n",
        "for i in range(len(mats)):\n",
        "    X[i, :] = sio.loadmat(mypath + mats[i])['val'][0, :check]\n",
        "print(X.shape)"
      ],
      "execution_count": 3,
      "outputs": [
        {
          "output_type": "stream",
          "text": [
            "Training size is  96\n",
            "(96, 9000)\n"
          ],
          "name": "stdout"
        }
      ]
    },
    {
      "cell_type": "code",
      "metadata": {
        "id": "ZnuEe0UuL324"
      },
      "source": [
        "target_train = np.zeros((len(mats), 1))\n",
        "Train_data = pd.read_csv(mypath + 'REFERENCE.csv', sep=',', header=None, names=None)\n",
        "for i in range(len(mats)):\n",
        "    if Train_data.loc[Train_data[0] == mats[i][:6], 1].values == 'N':\n",
        "        target_train[i] = 0\n",
        "    elif Train_data.loc[Train_data[0] == mats[i][:6], 1].values == 'A':\n",
        "        target_train[i] = 1\n",
        "    elif Train_data.loc[Train_data[0] == mats[i][:6], 1].values == 'O':\n",
        "        target_train[i] = 2\n",
        "    else:\n",
        "        target_train[i] = 3\n",
        "print(target_train.shape)\n"
      ],
      "execution_count": null,
      "outputs": []
    }
  ]
}