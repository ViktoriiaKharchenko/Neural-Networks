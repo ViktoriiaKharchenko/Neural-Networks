{
  "nbformat": 4,
  "nbformat_minor": 0,
  "metadata": {
    "colab": {
      "name": "ECG.ipynb",
      "provenance": [],
      "collapsed_sections": [],
      "mount_file_id": "1zf1GbJfs_mc6FXlECOOV7Pby0u1ypyoM",
      "authorship_tag": "ABX9TyMncn1e/Qwuo13QZD0bgI4n",
      "include_colab_link": true
    },
    "kernelspec": {
      "name": "python3",
      "display_name": "Python 3"
    },
    "language_info": {
      "name": "python"
    }
  },
  "cells": [
    {
      "cell_type": "markdown",
      "metadata": {
        "id": "view-in-github",
        "colab_type": "text"
      },
      "source": [
        "<a href=\"https://colab.research.google.com/github/ViktoriiaKharchenko/Neural-Networks/blob/master/ECGDence.ipynb\" target=\"_parent\"><img src=\"https://colab.research.google.com/assets/colab-badge.svg\" alt=\"Open In Colab\"/></a>"
      ]
    },
    {
      "cell_type": "code",
      "metadata": {
        "id": "LmDPtWoIKQUc"
      },
      "source": [
        "import numpy as np\n",
        "from os import listdir\n",
        "from os.path import isfile, join\n",
        "import pandas as pd\n",
        "import scipy.io as sio\n",
        "import matplotlib.pyplot as plt # Отрисовка изображений\n"
      ],
      "execution_count": 2,
      "outputs": []
    },
    {
      "cell_type": "code",
      "metadata": {
        "id": "2rJBTO6jKsJi"
      },
      "source": [
        "from sklearn.model_selection import train_test_split\n",
        "from tensorflow.keras import utils\n",
        "from sklearn.preprocessing import StandardScaler \n",
        "from tensorflow.keras.models import Sequential \n",
        "from tensorflow.keras.layers import Dense, Activation, Dropout, BatchNormalization \n",
        "from sklearn.preprocessing import MinMaxScaler \n",
        "from tensorflow import keras\n"
      ],
      "execution_count": 13,
      "outputs": []
    },
    {
      "cell_type": "code",
      "metadata": {
        "colab": {
          "base_uri": "https://localhost:8080/"
        },
        "id": "TD5lixX8L0T-",
        "outputId": "697bf644-a8fe-4ff3-8797-1ac5a2cef3cf"
      },
      "source": [
        "# number_of_classes = 4\n",
        "# mypath = 'drive/MyDrive/training2017/'\n",
        "# onlyfiles = [f for f in listdir(mypath) if (isfile(join(mypath, f)) and f[0] == 'A')]\n",
        "# bats = [f for f in onlyfiles if f[7] == 'm']\n",
        "# check = 9000\n",
        "# mats = [f for f in bats if (np.shape(sio.loadmat(mypath + f)['val'])[1] >= check)]\n",
        "# size = len(mats)\n",
        "# print('Training size is ', len(mats))\n",
        "# X = np.zeros((len(mats), check))\n",
        "# for i in range(len(mats)):\n",
        "#     X[i, :] = sio.loadmat(mypath + mats[i])['val'][0, :check]\n",
        "# print(X.shape)\n",
        "# datasetPath = 'drive/MyDrive/Colab Notebooks/data.csv'\n",
        "datasetPath = 'drive/MyDrive/Colab Notebooks/filteredData.csv'\n",
        "resultPath = 'drive/MyDrive/Colab Notebooks/result.csv'\n",
        "\n",
        "X = pd.read_csv(datasetPath, delimiter=',')\n",
        "Y = pd.read_csv(resultPath, delimiter=',')\n",
        "\n",
        "print(X.shape)\n",
        "print(Y)\n"
      ],
      "execution_count": 4,
      "outputs": [
        {
          "output_type": "stream",
          "text": [
            "(7560, 9000)\n",
            "      0.000000000000000000e+00\n",
            "0                          0.0\n",
            "1                          0.0\n",
            "2                          1.0\n",
            "3                          1.0\n",
            "4                          0.0\n",
            "...                        ...\n",
            "7555                       0.0\n",
            "7556                       2.0\n",
            "7557                       0.0\n",
            "7558                       0.0\n",
            "7559                       0.0\n",
            "\n",
            "[7560 rows x 1 columns]\n"
          ],
          "name": "stdout"
        }
      ]
    },
    {
      "cell_type": "code",
      "metadata": {
        "id": "ZnuEe0UuL324",
        "colab": {
          "base_uri": "https://localhost:8080/"
        },
        "outputId": "78318c6a-ace7-481e-9b86-b9cfc0ca83f7"
      },
      "source": [
        "# target_train = np.zeros((len(mats), 1))\n",
        "# Train_data = pd.read_csv(mypath + 'REFERENCE.csv', sep=',', header=None, names=None)\n",
        "# for i in range(len(mats)):\n",
        "#     if Train_data.loc[Train_data[0] == mats[i][:6], 1].values == 'N':\n",
        "#         target_train[i] = 0\n",
        "#     elif Train_data.loc[Train_data[0] == mats[i][:6], 1].values == 'A':\n",
        "#         target_train[i] = 1\n",
        "#     elif Train_data.loc[Train_data[0] == mats[i][:6], 1].values == 'O':\n",
        "#         target_train[i] = 2\n",
        "#     else:\n",
        "#         target_train[i] = 3\n",
        "# print(target_train.shape)\n",
        "x_train, x_test, y_train, y_test = train_test_split(X, Y, test_size=0.2, shuffle=True)  \n",
        "# scale_features_std = StandardScaler() \n",
        "# x_train = scale_features_std.fit_transform(x_train) \n",
        "# x_test = scale_features_std.transform(x_test) \n",
        "# scale_features_mm = MinMaxScaler() \n",
        "# x_train = scale_features_mm.fit_transform(x_train) \n",
        "# x_test = scale_features_mm.transform(x_test)\n",
        "print(x_train.shape)  \n",
        "print(y_train.shape)  \n",
        "print(y_train)\n"
      ],
      "execution_count": 5,
      "outputs": [
        {
          "output_type": "stream",
          "text": [
            "(6048, 9000)\n",
            "(6048, 1)\n",
            "      0.000000000000000000e+00\n",
            "3297                       0.0\n",
            "3703                       0.0\n",
            "1629                       0.0\n",
            "3085                       1.0\n",
            "961                        0.0\n",
            "...                        ...\n",
            "3577                       0.0\n",
            "488                        0.0\n",
            "3695                       2.0\n",
            "5808                       2.0\n",
            "5746                       2.0\n",
            "\n",
            "[6048 rows x 1 columns]\n"
          ],
          "name": "stdout"
        }
      ]
    },
    {
      "cell_type": "code",
      "metadata": {
        "colab": {
          "base_uri": "https://localhost:8080/"
        },
        "id": "9CwJC_yWNXAH",
        "outputId": "26f12080-562e-4724-ae03-3434fd26eac1"
      },
      "source": [
        "y_train = utils.to_categorical(y_train, 4)\n",
        "y_test = utils.to_categorical(y_test, 4)\n",
        "print(y_train.shape)"
      ],
      "execution_count": 6,
      "outputs": [
        {
          "output_type": "stream",
          "text": [
            "(6048, 4)\n"
          ],
          "name": "stdout"
        }
      ]
    },
    {
      "cell_type": "code",
      "metadata": {
        "id": "z9dg4snhLclc"
      },
      "source": [
        "def create_model():\n",
        "  model = Sequential()\n",
        "  model.add(BatchNormalization(input_shape=(9000, )))\n",
        "  model.add(Dense(1024, activation='relu'))\n",
        "  model.add(Dense(1024, activation='relu'))\n",
        "  model.add(Dropout(0.25))\n",
        "  model.add(Dense(1024, activation='relu'))\n",
        "  model.add(Dense(1024, activation='relu'))\n",
        "  model.add(Dropout(0.25))\n",
        "  model.add(Dense(512, activation='relu'))\n",
        "  model.add(Dense(512, activation='relu'))\n",
        "  model.add(Dropout(0.25))\n",
        "  model.add(Dense(512, activation='relu'))\n",
        "  model.add(Dense(512, activation='relu'))\n",
        "  model.add(Dropout(0.25))\n",
        "  model.add(Dense(256, activation='relu'))\n",
        "  model.add(Dense(256, activation='relu'))\n",
        "  model.add(Dropout(0.25))\n",
        "  model.add(Dense(128, activation='relu'))\n",
        "  model.add(Dense(128, activation='relu'))\n",
        "  model.add(Dropout(0.25))\n",
        "  model.add(Dense(64, activation='relu'))\n",
        "  model.add(Dense(64, activation='relu'))\n",
        "\t#model.add(Dropout(0.5))\n",
        "\t# model.add(Dense(512, kernel_initializer='normal', activation='relu'))\n",
        "\t# model.add(Dense(512, kernel_initializer='normal', activation='relu'))\n",
        "\t# model.add(Dense(512, kernel_initializer='normal', activation='relu'))\n",
        "\t# model.add(Dropout(0.5))\n",
        "\t# model.add(Dense(256, kernel_initializer='normal', activation='relu'))\n",
        "\t# model.add(Dense(256, kernel_initializer='normal', activation='relu'))\n",
        "\t# model.add(Dropout(0.5))\n",
        "\t# model.add(Dense(128, kernel_initializer='normal', activation='relu'))\n",
        "\t# model.add(Dense(128, kernel_initializer='normal', activation='relu'))\n",
        "\t# model.add(Dropout(0.5))\n",
        "\t# model.add(Dense(64, kernel_initializer='normal', activation='relu'))\n",
        "\t# model.add(Dense(64, kernel_initializer='normal', activation='relu'))\n",
        "\t# model.add(Dropout(0.5))\n",
        "  model.add(Dense(4, kernel_initializer='normal', activation='softmax'))\n",
        "  opt = keras.optimizers.Adam(learning_rate=0.1)\n",
        "  model.compile(loss='categorical_crossentropy', optimizer=opt, metrics=['accuracy'])\n",
        "  return model\n"
      ],
      "execution_count": 16,
      "outputs": []
    },
    {
      "cell_type": "code",
      "metadata": {
        "colab": {
          "base_uri": "https://localhost:8080/"
        },
        "id": "HY1P1DdVPlpq",
        "outputId": "07e4300f-b391-4418-921a-332796a22c02"
      },
      "source": [
        "# Создаём пустую сеть\n",
        "model = create_model()\n",
        "\n",
        "# Обучаем сеть\n",
        "history = model.fit(x_train, \n",
        "          y_train,\n",
        "          batch_size=50, \n",
        "          epochs=10,\n",
        "          validation_split=0.2, # Указываем 20% случайных примеров для проверочной выборки\n",
        "          verbose=1)"
      ],
      "execution_count": 17,
      "outputs": [
        {
          "output_type": "stream",
          "text": [
            "Epoch 1/10\n",
            "97/97 [==============================] - 18s 178ms/step - loss: 2274691065647.0347 - accuracy: 0.5264 - val_loss: 0.9941 - val_accuracy: 0.6033\n",
            "Epoch 2/10\n",
            "97/97 [==============================] - 17s 175ms/step - loss: 0.9677 - accuracy: 0.5990 - val_loss: 0.9700 - val_accuracy: 0.6033\n",
            "Epoch 3/10\n",
            "97/97 [==============================] - 17s 176ms/step - loss: 0.9464 - accuracy: 0.6045 - val_loss: 0.9798 - val_accuracy: 0.6033\n",
            "Epoch 4/10\n",
            "97/97 [==============================] - 17s 179ms/step - loss: 4026139029.0043 - accuracy: 0.6016 - val_loss: 0.9616 - val_accuracy: 0.6033\n",
            "Epoch 5/10\n",
            "97/97 [==============================] - 19s 193ms/step - loss: 177665199.8057 - accuracy: 0.6089 - val_loss: 0.9693 - val_accuracy: 0.6033\n",
            "Epoch 6/10\n",
            "97/97 [==============================] - 17s 178ms/step - loss: 0.9654 - accuracy: 0.6112 - val_loss: 0.9645 - val_accuracy: 0.6033\n",
            "Epoch 7/10\n",
            "97/97 [==============================] - 17s 178ms/step - loss: 0.9480 - accuracy: 0.6030 - val_loss: 0.9564 - val_accuracy: 0.6033\n",
            "Epoch 8/10\n",
            "97/97 [==============================] - 17s 178ms/step - loss: 0.9562 - accuracy: 0.5932 - val_loss: 0.9564 - val_accuracy: 0.6033\n",
            "Epoch 9/10\n",
            "97/97 [==============================] - 17s 179ms/step - loss: 0.9563 - accuracy: 0.6026 - val_loss: 0.9601 - val_accuracy: 0.6033\n",
            "Epoch 10/10\n",
            "97/97 [==============================] - 17s 179ms/step - loss: 0.9707 - accuracy: 0.5928 - val_loss: 0.9613 - val_accuracy: 0.6033\n"
          ],
          "name": "stdout"
        }
      ]
    },
    {
      "cell_type": "code",
      "metadata": {
        "colab": {
          "base_uri": "https://localhost:8080/"
        },
        "id": "cRDvxf4Yc_Rn",
        "outputId": "7e7c4024-aef8-428b-e1ff-ba0c4770c6f6"
      },
      "source": [
        "scores = model.evaluate(x_test, y_test, verbose=1)\n",
        "print(scores)\n",
        "print(\"Доля верных ответов на тестовых данных, в процентах: \", round(scores[1] * 100, 4), \"%\", sep=\"\")"
      ],
      "execution_count": 18,
      "outputs": [
        {
          "output_type": "stream",
          "text": [
            "48/48 [==============================] - 1s 27ms/step - loss: 0.9534 - accuracy: 0.5847\n",
            "[0.953363835811615, 0.5846560597419739]\n",
            "Доля верных ответов на тестовых данных, в процентах: 58.4656%\n"
          ],
          "name": "stdout"
        }
      ]
    },
    {
      "cell_type": "code",
      "metadata": {
        "colab": {
          "base_uri": "https://localhost:8080/",
          "height": 279
        },
        "id": "_9XOX4u9dP78",
        "outputId": "81f0a344-644e-463c-e70c-fd8815ceb980"
      },
      "source": [
        "# Выводим график точности на обучающей выборке\n",
        "# label - имя графика в легенде\n",
        "plt.plot(history.history['accuracy'], \n",
        "         label='Доля верных ответов на обучающем наборе')\n",
        "\n",
        "# Выводим график точности на проверочной выборке\n",
        "plt.plot(history.history['val_accuracy'], \n",
        "         label='Доля верных ответов на проверочном наборе')\n",
        "\n",
        "# Выводим подписи осей\n",
        "plt.xlabel('Эпоха обучения')\n",
        "plt.ylabel('Доля верных ответов')\n",
        "\n",
        "# Выводим легенду\n",
        "plt.legend()\n",
        "plt.show()"
      ],
      "execution_count": 19,
      "outputs": [
        {
          "output_type": "display_data",
          "data": {
            "image/png": "[encoded data removed]",
            "text/plain": [
              "<Figure size 432x288 with 1 Axes>"
            ]
          },
          "metadata": {
            "tags": [],
            "needs_background": "light"
          }
        }
      ]
    },
    {
      "cell_type": "code",
      "metadata": {
        "colab": {
          "base_uri": "https://localhost:8080/",
          "height": 290
        },
        "id": "ahzf4r8kdfmM",
        "outputId": "36c18d8e-ebc2-4606-aa7d-dc7fc40c5484"
      },
      "source": [
        "plt.plot(history.history['loss'], \n",
        "         label='Ошибка на обучающем наборе')\n",
        "plt.plot(history.history['val_loss'], \n",
        "         label='Ошибка на проверочном наборе')\n",
        "plt.xlabel('Эпоха обучения')\n",
        "plt.ylabel('Ошибка')\n",
        "plt.legend()\n",
        "plt.show()"
      ],
      "execution_count": 20,
      "outputs": [
        {
          "output_type": "display_data",
          "data": {
            "image/png": "[encoded data removed]",
            "text/plain": [
              "<Figure size 432x288 with 1 Axes>"
            ]
          },
          "metadata": {
            "tags": [],
            "needs_background": "light"
          }
        }
      ]
    }
  ]
}