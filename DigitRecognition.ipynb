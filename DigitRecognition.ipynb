{
  "nbformat": 4,
  "nbformat_minor": 0,
  "metadata": {
    "colab": {
      "name": "DigitRecognition.ipynb",
      "provenance": [],
      "collapsed_sections": []
    },
    "kernelspec": {
      "name": "python3",
      "display_name": "Python 3"
    },
    "language_info": {
      "name": "python"
    }
  },
  "cells": [
    {
      "cell_type": "markdown",
      "metadata": {
        "id": "tdBHNsIABfxD"
      },
      "source": [
        "Library import\n"
      ]
    },
    {
      "cell_type": "code",
      "metadata": {
        "id": "xuID--j8-_Lt"
      },
      "source": [
        "from tensorflow.keras.datasets import mnist \n",
        "import matplotlib.pyplot as plt \n",
        "from PIL import Image \n",
        "from tensorflow.keras import utils\n",
        "from tensorflow.keras.models import Sequential \n",
        "from tensorflow.keras.layers import Dense \n",
        "import numpy as np"
      ],
      "execution_count": 35,
      "outputs": []
    },
    {
      "cell_type": "markdown",
      "metadata": {
        "id": "ayNwzHu9BpEG"
      },
      "source": [
        "Load dataset"
      ]
    },
    {
      "cell_type": "code",
      "metadata": {
        "colab": {
          "base_uri": "https://localhost:8080/",
          "height": 265
        },
        "id": "Gjc_Mp35Bwh6",
        "outputId": "889ad083-16f9-45cc-a22f-53720f8c49fe"
      },
      "source": [
        "(x_train_org, y_train_org),(x_test_org,y_test_org) = mnist.load_data()\n",
        "x_test_org[0]\n",
        "n_rec = 0\n",
        "plt.imshow(Image.fromarray(x_test_org[n_rec]).convert('RGBA'))\n",
        "plt.show()"
      ],
      "execution_count": 36,
      "outputs": [
        {
          "output_type": "display_data",
          "data": {
            "image/png": "[encoded data removed]",
            "text/plain": [
              "<Figure size 432x288 with 1 Axes>"
            ]
          },
          "metadata": {
            "tags": [],
            "needs_background": "light"
          }
        }
      ]
    },
    {
      "cell_type": "markdown",
      "metadata": {
        "id": "sCx2zhS11T-T"
      },
      "source": [
        "Change image format"
      ]
    },
    {
      "cell_type": "code",
      "metadata": {
        "id": "JiL1wpR21Z6u"
      },
      "source": [
        "x_train = x_train_org.reshape(60000,784)\n",
        "x_test = x_test_org.reshape(10000,784)\n"
      ],
      "execution_count": 37,
      "outputs": []
    },
    {
      "cell_type": "markdown",
      "metadata": {
        "id": "cHlWCoY63p1b"
      },
      "source": [
        "Normalize data"
      ]
    },
    {
      "cell_type": "code",
      "metadata": {
        "id": "gsyFxTpB3vL6"
      },
      "source": [
        "x_train = x_train.astype('float32')\n",
        "x_train = x_train / 255\n",
        "x_test = x_test.astype('float32')\n",
        "x_test = x_test / 255 \n",
        "y_train = utils.to_categorical(y_train_org, 10)\n",
        "y_test = utils.to_categorical(y_test_org, 10)"
      ],
      "execution_count": 38,
      "outputs": []
    },
    {
      "cell_type": "markdown",
      "metadata": {
        "id": "eFc4HU6E3_WL"
      },
      "source": [
        "Neural Network"
      ]
    },
    {
      "cell_type": "code",
      "metadata": {
        "id": "A1T5wrwD7oj9",
        "colab": {
          "base_uri": "https://localhost:8080/"
        },
        "outputId": "d279e3df-b0f0-4a6d-9ab6-f003155ac977"
      },
      "source": [
        "model = Sequential()\n",
        "model.add(Dense(1200, input_dim=784, activation=\"relu\"))\n",
        "#model.add(Dense(400, activation=\"relu\"))\n",
        "model.add(Dense(10, activation=\"softmax\"))\n",
        "\n",
        "model.compile(loss=\"categorical_crossentropy\", optimizer=\"adam\", metrics=[\"accuracy\"])\n",
        "print(model.summary()) "
      ],
      "execution_count": 49,
      "outputs": [
        {
          "output_type": "stream",
          "text": [
            "Model: \"sequential_3\"\n",
            "_________________________________________________________________\n",
            "Layer (type)                 Output Shape              Param #   \n",
            "=================================================================\n",
            "dense_8 (Dense)              (None, 1200)              942000    \n",
            "_________________________________________________________________\n",
            "dense_9 (Dense)              (None, 10)                12010     \n",
            "=================================================================\n",
            "Total params: 954,010\n",
            "Trainable params: 954,010\n",
            "Non-trainable params: 0\n",
            "_________________________________________________________________\n",
            "None\n"
          ],
          "name": "stdout"
        }
      ]
    },
    {
      "cell_type": "markdown",
      "metadata": {
        "id": "iTF5pWJ7EbmK"
      },
      "source": [
        "NN train"
      ]
    },
    {
      "cell_type": "code",
      "metadata": {
        "colab": {
          "base_uri": "https://localhost:8080/"
        },
        "id": "cS12Gx5_Ee3h",
        "outputId": "cf054473-ec65-4bf1-8005-714ea31a2030"
      },
      "source": [
        "model.fit(x_train, y_train, batch_size=128, epochs=40, verbose=1)\n",
        "model.save_weights('model.h5')\n",
        "model.load_weights('model.h5')"
      ],
      "execution_count": 50,
      "outputs": [
        {
          "output_type": "stream",
          "text": [
            "Epoch 1/40\n",
            "469/469 [==============================] - 7s 14ms/step - loss: 0.4119 - accuracy: 0.8798\n",
            "Epoch 2/40\n",
            "469/469 [==============================] - 7s 14ms/step - loss: 0.0939 - accuracy: 0.9721\n",
            "Epoch 3/40\n",
            "469/469 [==============================] - 7s 14ms/step - loss: 0.0550 - accuracy: 0.9834\n",
            "Epoch 4/40\n",
            "469/469 [==============================] - 7s 14ms/step - loss: 0.0346 - accuracy: 0.9900\n",
            "Epoch 5/40\n",
            "469/469 [==============================] - 7s 14ms/step - loss: 0.0261 - accuracy: 0.9924\n",
            "Epoch 6/40\n",
            "469/469 [==============================] - 7s 14ms/step - loss: 0.0177 - accuracy: 0.9951\n",
            "Epoch 7/40\n",
            "469/469 [==============================] - 7s 14ms/step - loss: 0.0120 - accuracy: 0.9970\n",
            "Epoch 8/40\n",
            "469/469 [==============================] - 7s 14ms/step - loss: 0.0076 - accuracy: 0.9982\n",
            "Epoch 9/40\n",
            "469/469 [==============================] - 7s 14ms/step - loss: 0.0076 - accuracy: 0.9980\n",
            "Epoch 10/40\n",
            "469/469 [==============================] - 7s 14ms/step - loss: 0.0104 - accuracy: 0.9966\n",
            "Epoch 11/40\n",
            "469/469 [==============================] - 7s 14ms/step - loss: 0.0056 - accuracy: 0.9985\n",
            "Epoch 12/40\n",
            "469/469 [==============================] - 7s 14ms/step - loss: 0.0079 - accuracy: 0.9976\n",
            "Epoch 13/40\n",
            "469/469 [==============================] - 7s 14ms/step - loss: 0.0049 - accuracy: 0.9985\n",
            "Epoch 14/40\n",
            "469/469 [==============================] - 7s 14ms/step - loss: 0.0040 - accuracy: 0.9988\n",
            "Epoch 15/40\n",
            "469/469 [==============================] - 7s 14ms/step - loss: 0.0059 - accuracy: 0.9982\n",
            "Epoch 16/40\n",
            "469/469 [==============================] - 7s 14ms/step - loss: 0.0050 - accuracy: 0.9987\n",
            "Epoch 17/40\n",
            "469/469 [==============================] - 7s 14ms/step - loss: 0.0052 - accuracy: 0.9983\n",
            "Epoch 18/40\n",
            "469/469 [==============================] - 7s 14ms/step - loss: 0.0030 - accuracy: 0.9993\n",
            "Epoch 19/40\n",
            "469/469 [==============================] - 6s 14ms/step - loss: 0.0034 - accuracy: 0.9990\n",
            "Epoch 20/40\n",
            "469/469 [==============================] - 7s 14ms/step - loss: 0.0042 - accuracy: 0.9987\n",
            "Epoch 21/40\n",
            "469/469 [==============================] - 7s 14ms/step - loss: 0.0031 - accuracy: 0.9992\n",
            "Epoch 22/40\n",
            "469/469 [==============================] - 7s 14ms/step - loss: 0.0042 - accuracy: 0.9988\n",
            "Epoch 23/40\n",
            "469/469 [==============================] - 7s 14ms/step - loss: 0.0025 - accuracy: 0.9992\n",
            "Epoch 24/40\n",
            "469/469 [==============================] - 6s 14ms/step - loss: 0.0054 - accuracy: 0.9984\n",
            "Epoch 25/40\n",
            "469/469 [==============================] - 6s 14ms/step - loss: 0.0035 - accuracy: 0.9991\n",
            "Epoch 26/40\n",
            "469/469 [==============================] - 6s 14ms/step - loss: 0.0027 - accuracy: 0.9994\n",
            "Epoch 27/40\n",
            "469/469 [==============================] - 7s 14ms/step - loss: 0.0029 - accuracy: 0.9991\n",
            "Epoch 28/40\n",
            "469/469 [==============================] - 6s 14ms/step - loss: 0.0066 - accuracy: 0.9986\n",
            "Epoch 29/40\n",
            "469/469 [==============================] - 6s 14ms/step - loss: 0.0052 - accuracy: 0.9982\n",
            "Epoch 30/40\n",
            "469/469 [==============================] - 6s 14ms/step - loss: 0.0039 - accuracy: 0.9989\n",
            "Epoch 31/40\n",
            "469/469 [==============================] - 6s 14ms/step - loss: 0.0028 - accuracy: 0.9992\n",
            "Epoch 32/40\n",
            "469/469 [==============================] - 6s 14ms/step - loss: 0.0025 - accuracy: 0.9994\n",
            "Epoch 33/40\n",
            "469/469 [==============================] - 6s 14ms/step - loss: 8.7546e-04 - accuracy: 0.9998\n",
            "Epoch 34/40\n",
            "469/469 [==============================] - 6s 14ms/step - loss: 7.8698e-05 - accuracy: 1.0000\n",
            "Epoch 35/40\n",
            "469/469 [==============================] - 6s 14ms/step - loss: 3.0060e-05 - accuracy: 1.0000\n",
            "Epoch 36/40\n",
            "469/469 [==============================] - 6s 14ms/step - loss: 1.9943e-05 - accuracy: 1.0000\n",
            "Epoch 37/40\n",
            "469/469 [==============================] - 6s 14ms/step - loss: 1.5739e-05 - accuracy: 1.0000\n",
            "Epoch 38/40\n",
            "469/469 [==============================] - 7s 14ms/step - loss: 1.4572e-05 - accuracy: 1.0000\n",
            "Epoch 39/40\n",
            "469/469 [==============================] - 6s 14ms/step - loss: 1.1849e-05 - accuracy: 1.0000\n",
            "Epoch 40/40\n",
            "469/469 [==============================] - 7s 14ms/step - loss: 9.9249e-06 - accuracy: 1.0000\n"
          ],
          "name": "stdout"
        }
      ]
    },
    {
      "cell_type": "markdown",
      "metadata": {
        "id": "w0wKyxSfG2X7"
      },
      "source": [
        "Digit recognition"
      ]
    },
    {
      "cell_type": "code",
      "metadata": {
        "colab": {
          "base_uri": "https://localhost:8080/",
          "height": 336
        },
        "id": "WXUEc0KAGmaN",
        "outputId": "d05551a9-1f1d-4004-827d-150e3487e951"
      },
      "source": [
        "n_rec = 1540\n",
        "plt.imshow(Image.fromarray(x_test_org[n_rec]).convert('RGBA'))\n",
        "plt.show()\n",
        "x = x_test[n_rec]\n",
        "x = np.expand_dims(x, axis=0)\n",
        "prediction = model.predict(x)\n",
        "print(prediction)\n",
        "prediction = np.argmax(prediction)\n",
        "print(prediction)\n",
        "print(y_test[n_rec])"
      ],
      "execution_count": 56,
      "outputs": [
        {
          "output_type": "display_data",
          "data": {
            "image/png": "[encoded data removed]",
            "text/plain": [
              "<Figure size 432x288 with 1 Axes>"
            ]
          },
          "metadata": {
            "tags": [],
            "needs_background": "light"
          }
        },
        {
          "output_type": "stream",
          "text": [
            "[[6.9208345e-22 9.4215788e-25 5.0140107e-15 3.4712327e-17 1.1147311e-28\n",
            "  2.8130837e-18 9.0093319e-31 1.0000000e+00 2.0004152e-24 3.0002218e-15]]\n",
            "7\n",
            "[0. 0. 0. 0. 0. 0. 0. 1. 0. 0.]\n"
          ],
          "name": "stdout"
        }
      ]
    }
  ]
}