{
  "nbformat": 4,
  "nbformat_minor": 0,
  "metadata": {
    "colab": {
      "name": "DigitRecognition.ipynb",
      "provenance": [],
      "collapsed_sections": []
    },
    "kernelspec": {
      "name": "python3",
      "display_name": "Python 3"
    },
    "language_info": {
      "name": "python"
    }
  },
  "cells": [
    {
      "cell_type": "markdown",
      "metadata": {
        "id": "tdBHNsIABfxD"
      },
      "source": [
        "Library import\n"
      ]
    },
    {
      "cell_type": "code",
      "metadata": {
        "id": "xuID--j8-_Lt"
      },
      "source": [
        "from tensorflow.keras.datasets import mnist \n",
        "import matplotlib.pyplot as plt \n",
        "from PIL import Image \n",
        "from tensorflow.keras import utils\n",
        "from tensorflow.keras.models import Sequential \n",
        "from tensorflow.keras.layers import Dense \n",
        "import numpy as np"
      ],
      "execution_count": 35,
      "outputs": []
    },
    {
      "cell_type": "markdown",
      "metadata": {
        "id": "ayNwzHu9BpEG"
      },
      "source": [
        "Load dataset"
      ]
    },
    {
      "cell_type": "code",
      "metadata": {
        "colab": {
          "base_uri": "https://localhost:8080/",
          "height": 265
        },
        "id": "Gjc_Mp35Bwh6",
        "outputId": "889ad083-16f9-45cc-a22f-53720f8c49fe"
      },
      "source": [
        "(x_train_org, y_train_org),(x_test_org,y_test_org) = mnist.load_data()\n",
        "x_test_org[0]\n",
        "n_rec = 0\n",
        "plt.imshow(Image.fromarray(x_test_org[n_rec]).convert('RGBA'))\n",
        "plt.show()"
      ],
      "execution_count": 36,
      "outputs": [
        {
          "output_type": "display_data",
          "data": {
            "image/png": "[encoded data removed]",
            "text/plain": [
              "<Figure size 432x288 with 1 Axes>"
            ]
          },
          "metadata": {
            "tags": [],
            "needs_background": "light"
          }
        }
      ]
    },
    {
      "cell_type": "markdown",
      "metadata": {
        "id": "sCx2zhS11T-T"
      },
      "source": [
        "Change image format"
      ]
    },
    {
      "cell_type": "code",
      "metadata": {
        "id": "JiL1wpR21Z6u"
      },
      "source": [
        "x_train = x_train_org.reshape(60000,784)\n",
        "x_test = x_test_org.reshape(10000,784)\n"
      ],
      "execution_count": 37,
      "outputs": []
    },
    {
      "cell_type": "markdown",
      "metadata": {
        "id": "cHlWCoY63p1b"
      },
      "source": [
        "Normalize data"
      ]
    },
    {
      "cell_type": "code",
      "metadata": {
        "id": "gsyFxTpB3vL6"
      },
      "source": [
        "x_train = x_train.astype('float32')\n",
        "x_train = x_train / 255\n",
        "x_test = x_test.astype('float32')\n",
        "x_test = x_test / 255 \n",
        "y_train = utils.to_categorical(y_train_org, 10)\n",
        "y_test = utils.to_categorical(y_test_org, 10)"
      ],
      "execution_count": 38,
      "outputs": []
    },
    {
      "cell_type": "markdown",
      "metadata": {
        "id": "eFc4HU6E3_WL"
      },
      "source": [
        "Neural Network"
      ]
    },
    {
      "cell_type": "code",
      "metadata": {
        "id": "A1T5wrwD7oj9",
        "colab": {
          "base_uri": "https://localhost:8080/"
        },
        "outputId": "658ea92b-d1d3-4cdd-aa68-3782a4a065f2"
      },
      "source": [
        "model = Sequential()\n",
        "model.add(Dense(800, input_dim=784, activation=\"relu\"))\n",
        "model.add(Dense(400, activation=\"relu\"))\n",
        "model.add(Dense(10, activation=\"softmax\"))\n",
        "\n",
        "model.compile(loss=\"categorical_crossentropy\", optimizer=\"adam\", metrics=[\"accuracy\"]) # Компилируем модель\n",
        "print(model.summary()) #Вывод структуры модели"
      ],
      "execution_count": 39,
      "outputs": [
        {
          "output_type": "stream",
          "text": [
            "Model: \"sequential_1\"\n",
            "_________________________________________________________________\n",
            "Layer (type)                 Output Shape              Param #   \n",
            "=================================================================\n",
            "dense_3 (Dense)              (None, 800)               628000    \n",
            "_________________________________________________________________\n",
            "dense_4 (Dense)              (None, 400)               320400    \n",
            "_________________________________________________________________\n",
            "dense_5 (Dense)              (None, 10)                4010      \n",
            "=================================================================\n",
            "Total params: 952,410\n",
            "Trainable params: 952,410\n",
            "Non-trainable params: 0\n",
            "_________________________________________________________________\n",
            "None\n"
          ],
          "name": "stdout"
        }
      ]
    },
    {
      "cell_type": "markdown",
      "metadata": {
        "id": "iTF5pWJ7EbmK"
      },
      "source": [
        "NN train"
      ]
    },
    {
      "cell_type": "code",
      "metadata": {
        "colab": {
          "base_uri": "https://localhost:8080/"
        },
        "id": "cS12Gx5_Ee3h",
        "outputId": "4beedeb5-ee85-46a8-b6db-cadd5d0089e3"
      },
      "source": [
        "model.fit(x_train, y_train, batch_size=128, epochs=15, verbose=1)\n",
        "model.save_weights('model.h5')\n",
        "model.load_weights('model.h5')"
      ],
      "execution_count": 40,
      "outputs": [
        {
          "output_type": "stream",
          "text": [
            "Epoch 1/15\n",
            "469/469 [==============================] - 8s 16ms/step - loss: 0.3754 - accuracy: 0.8907\n",
            "Epoch 2/15\n",
            "469/469 [==============================] - 7s 16ms/step - loss: 0.0786 - accuracy: 0.9754\n",
            "Epoch 3/15\n",
            "469/469 [==============================] - 7s 16ms/step - loss: 0.0464 - accuracy: 0.9851\n",
            "Epoch 4/15\n",
            "469/469 [==============================] - 7s 16ms/step - loss: 0.0312 - accuracy: 0.9898\n",
            "Epoch 5/15\n",
            "469/469 [==============================] - 7s 16ms/step - loss: 0.0226 - accuracy: 0.9926\n",
            "Epoch 6/15\n",
            "469/469 [==============================] - 7s 16ms/step - loss: 0.0199 - accuracy: 0.9931\n",
            "Epoch 7/15\n",
            "469/469 [==============================] - 7s 16ms/step - loss: 0.0158 - accuracy: 0.9946\n",
            "Epoch 8/15\n",
            "469/469 [==============================] - 7s 16ms/step - loss: 0.0160 - accuracy: 0.9944\n",
            "Epoch 9/15\n",
            "469/469 [==============================] - 7s 16ms/step - loss: 0.0122 - accuracy: 0.9959\n",
            "Epoch 10/15\n",
            "469/469 [==============================] - 7s 16ms/step - loss: 0.0105 - accuracy: 0.9964\n",
            "Epoch 11/15\n",
            "469/469 [==============================] - 7s 16ms/step - loss: 0.0084 - accuracy: 0.9975\n",
            "Epoch 12/15\n",
            "469/469 [==============================] - 7s 16ms/step - loss: 0.0116 - accuracy: 0.9967\n",
            "Epoch 13/15\n",
            "469/469 [==============================] - 7s 16ms/step - loss: 0.0142 - accuracy: 0.9950\n",
            "Epoch 14/15\n",
            "469/469 [==============================] - 7s 16ms/step - loss: 0.0109 - accuracy: 0.9965\n",
            "Epoch 15/15\n",
            "469/469 [==============================] - 7s 16ms/step - loss: 0.0089 - accuracy: 0.9966\n"
          ],
          "name": "stdout"
        }
      ]
    },
    {
      "cell_type": "markdown",
      "metadata": {
        "id": "w0wKyxSfG2X7"
      },
      "source": [
        "Digit recognition"
      ]
    },
    {
      "cell_type": "code",
      "metadata": {
        "colab": {
          "base_uri": "https://localhost:8080/",
          "height": 318
        },
        "id": "WXUEc0KAGmaN",
        "outputId": "47d951d8-a34d-4361-8c01-1092ee16f86a"
      },
      "source": [
        "n_rec = 7\n",
        "plt.imshow(Image.fromarray(x_test_org[n_rec]).convert('RGBA'))\n",
        "plt.show()\n",
        "x = x_test[n_rec]\n",
        "x = np.expand_dims(x, axis=0)\n",
        "prediction = model.predict(x)\n",
        "print(prediction)\n",
        "prediction = np.argmax(prediction)\n",
        "print(prediction)"
      ],
      "execution_count": 43,
      "outputs": [
        {
          "output_type": "display_data",
          "data": {
            "image/png": "[encoded data removed]",
            "text/plain": [
              "<Figure size 432x288 with 1 Axes>"
            ]
          },
          "metadata": {
            "tags": [],
            "needs_background": "light"
          }
        },
        {
          "output_type": "stream",
          "text": [
            "[[2.5998554e-15 1.4528217e-13 4.2250258e-14 9.1241903e-09 8.5745393e-09\n",
            "  1.0822649e-11 4.7393051e-20 2.9273453e-09 1.1179643e-11 1.0000000e+00]]\n",
            "9\n"
          ],
          "name": "stdout"
        }
      ]
    }
  ]
}