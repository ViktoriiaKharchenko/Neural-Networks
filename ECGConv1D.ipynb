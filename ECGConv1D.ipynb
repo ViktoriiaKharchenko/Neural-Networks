{
  "nbformat": 4,
  "nbformat_minor": 0,
  "metadata": {
    "colab": {
      "name": "ECGConv1D.ipynb",
      "provenance": [],
      "collapsed_sections": [],
      "mount_file_id": "1TJDgi2iJSc2rVixYeOTwsJtHLu3wphPJ",
      "authorship_tag": "ABX9TyM5LwqoMnbdLm1O/bymAKBX",
      "include_colab_link": true
    },
    "kernelspec": {
      "display_name": "Python 3",
      "name": "python3"
    },
    "language_info": {
      "name": "python"
    }
  },
  "cells": [
    {
      "cell_type": "markdown",
      "metadata": {
        "id": "view-in-github",
        "colab_type": "text"
      },
      "source": [
        "<a href=\"https://colab.research.google.com/github/ViktoriiaKharchenko/Neural-Networks/blob/master/ECGConv1D.ipynb\" target=\"_parent\"><img src=\"https://colab.research.google.com/assets/colab-badge.svg\" alt=\"Open In Colab\"/></a>"
      ]
    },
    {
      "cell_type": "code",
      "metadata": {
        "id": "aeVyZX81TzjA"
      },
      "source": [
        "import numpy as np\n",
        "from os import listdir\n",
        "from os.path import isfile, join\n",
        "import pandas as pd\n",
        "import scipy.io as sio\n",
        "import matplotlib.pyplot as plt # Отрисовка изображений\n"
      ],
      "execution_count": 2,
      "outputs": []
    },
    {
      "cell_type": "code",
      "metadata": {
        "id": "wnIiGzUIT1kb"
      },
      "source": [
        "from sklearn.model_selection import train_test_split\n",
        "from tensorflow.keras import utils\n",
        "from sklearn.preprocessing import StandardScaler \n",
        "from tensorflow.keras.models import Sequential \n",
        "from tensorflow.keras.layers import Dense, Activation, Dropout, BatchNormalization,Conv1D, GlobalAveragePooling1D, MaxPooling1D,Flatten\n",
        "from sklearn.preprocessing import MinMaxScaler \n",
        "from tensorflow import keras\n"
      ],
      "execution_count": 3,
      "outputs": []
    },
    {
      "cell_type": "code",
      "metadata": {
        "colab": {
          "base_uri": "https://localhost:8080/"
        },
        "id": "KvWbOBuBT3dR",
        "outputId": "823aa9b3-4bf3-424f-e50a-4f59f4d22bb1"
      },
      "source": [
        "datasetPath = 'drive/MyDrive/Colab Notebooks/filteredData.csv'\n",
        "resultPath = 'drive/MyDrive/Colab Notebooks/result.csv'\n",
        "\n",
        "# X = pd.read_csv(datasetPath, delimiter=',')\n",
        "# Y = pd.read_csv(resultPath, delimiter=',')\n",
        "X = np.genfromtxt(datasetPath,delimiter=',')\n",
        "Y = np.genfromtxt(resultPath,delimiter=',')\n",
        "\n",
        "# X = np.array(X)\n",
        "# Y = np.array(Y)\n",
        "X.reshape(X.shape[0],9000,1)\n",
        "print(X.shape)\n",
        "print(Y)"
      ],
      "execution_count": 4,
      "outputs": [
        {
          "output_type": "stream",
          "text": [
            "(7561, 9000)\n",
            "[0. 0. 0. ... 0. 0. 0.]\n"
          ],
          "name": "stdout"
        }
      ]
    },
    {
      "cell_type": "code",
      "metadata": {
        "colab": {
          "base_uri": "https://localhost:8080/"
        },
        "id": "AgEx5utGUEMi",
        "outputId": "09b43c1b-2d96-4b6e-e501-74cf50f796ae"
      },
      "source": [
        "x_train, x_test, y_train, y_test = train_test_split(X, Y, test_size=0.2, shuffle=True)  \n",
        "# scale_features_std = StandardScaler() \n",
        "# x_train = scale_features_std.fit_transform(x_train) \n",
        "# x_test = scale_features_std.transform(x_test) \n",
        "# scale_features_mm = MinMaxScaler() \n",
        "# x_train = scale_features_mm.fit_transform(x_train) \n",
        "# x_test = scale_features_mm.transform(x_test)\n",
        "x_train = x_train.reshape(x_train.shape[0],9000,1)\n",
        "x_test = x_test.reshape(x_test.shape[0],9000,1)\n",
        "print(x_train.shape)  \n",
        "print(y_train.shape)  \n",
        "print(y_train)"
      ],
      "execution_count": null,
      "outputs": [
        {
          "output_type": "stream",
          "text": [
            "(6048, 9000, 1)\n",
            "(6048,)\n",
            "[0. 0. 0. ... 0. 2. 0.]\n"
          ],
          "name": "stdout"
        }
      ]
    },
    {
      "cell_type": "code",
      "metadata": {
        "colab": {
          "base_uri": "https://localhost:8080/"
        },
        "id": "3NVR7RXzUJYy",
        "outputId": "f6c8eb3d-652f-4bee-933e-63421c4ecf43"
      },
      "source": [
        "y_train = utils.to_categorical(y_train, 4)\n",
        "y_test = utils.to_categorical(y_test, 4)\n",
        "print(y_train.shape)\n"
      ],
      "execution_count": null,
      "outputs": [
        {
          "output_type": "stream",
          "text": [
            "(6048, 4)\n"
          ],
          "name": "stdout"
        }
      ]
    },
    {
      "cell_type": "code",
      "metadata": {
        "id": "58s6jlxPUWY4"
      },
      "source": [
        "def create_model():\n",
        "  model = Sequential()\n",
        "  model.add(Conv1D(128, 55, activation='relu', input_shape=(9000, 1)))\n",
        "  model.add(MaxPooling1D(10))\n",
        "  model.add(Dropout(0.5))\n",
        "  model.add(Conv1D(128, 25, activation='relu'))\n",
        "  model.add(MaxPooling1D(5))\n",
        "  model.add(Dropout(0.5))\n",
        "  model.add(Conv1D(128, 10, activation='relu'))\n",
        "  model.add(MaxPooling1D(5))\n",
        "  model.add(Dropout(0.5))\n",
        "  model.add(Conv1D(128, 5, activation='relu'))\n",
        "  model.add(GlobalAveragePooling1D())\n",
        "  #model.add(Flatten())\n",
        "  model.add(Dense(256, kernel_initializer='normal', activation='relu'))\n",
        "  model.add(Dropout(0.5))\n",
        "  model.add(Dense(128, kernel_initializer='normal', activation='relu'))\n",
        "  model.add(Dropout(0.5))\n",
        "  model.add(Dense(64, kernel_initializer='normal', activation='relu'))\n",
        "  model.add(Dropout(0.5))\n",
        "  model.add(Dense(4, kernel_initializer='normal', activation='softmax'))\n",
        "  model.compile(loss='categorical_crossentropy', optimizer='adam', metrics=['accuracy'])\n",
        "  return model  "
      ],
      "execution_count": null,
      "outputs": []
    },
    {
      "cell_type": "code",
      "metadata": {
        "colab": {
          "background_save": true,
          "base_uri": "https://localhost:8080/"
        },
        "id": "Pr4vHP8mUMgq",
        "outputId": "4fb11100-ab34-4aa8-ce94-77d29eb1b006"
      },
      "source": [
        "# Создаём пустую сеть\n",
        "model = create_model()\n",
        "\n",
        "# Обучаем сеть\n",
        "history = model.fit(x_train, \n",
        "          y_train,\n",
        "          batch_size=50, \n",
        "          epochs=10,\n",
        "          validation_split=0.2, # Указываем 20% случайных примеров для проверочной выборки\n",
        "          verbose=1)"
      ],
      "execution_count": null,
      "outputs": [
        {
          "output_type": "stream",
          "text": [
            "Epoch 1/10\n",
            "97/97 [==============================] - 360s 4s/step - loss: 1.2214 - accuracy: 0.5230 - val_loss: 0.9841 - val_accuracy: 0.5843\n",
            "Epoch 2/10\n",
            "97/97 [==============================] - 357s 4s/step - loss: 0.9250 - accuracy: 0.5986 - val_loss: 0.8608 - val_accuracy: 0.5843\n",
            "Epoch 3/10\n",
            "97/97 [==============================] - 361s 4s/step - loss: 0.9219 - accuracy: 0.6011 - val_loss: 0.8127 - val_accuracy: 0.5843\n",
            "Epoch 4/10\n",
            "97/97 [==============================] - 358s 4s/step - loss: 0.8411 - accuracy: 0.6116 - val_loss: 0.8429 - val_accuracy: 0.5843\n",
            "Epoch 5/10\n",
            "97/97 [==============================] - 356s 4s/step - loss: 0.8454 - accuracy: 0.6005 - val_loss: 0.8367 - val_accuracy: 0.5950\n",
            "Epoch 6/10\n",
            "97/97 [==============================] - 353s 4s/step - loss: 0.8244 - accuracy: 0.6343 - val_loss: 0.8114 - val_accuracy: 0.6231\n",
            "Epoch 7/10\n",
            "97/97 [==============================] - 353s 4s/step - loss: 0.8184 - accuracy: 0.6386 - val_loss: 0.8031 - val_accuracy: 0.6174\n",
            "Epoch 8/10\n",
            "97/97 [==============================] - 355s 4s/step - loss: 0.8433 - accuracy: 0.6304 - val_loss: 0.7876 - val_accuracy: 0.5983\n",
            "Epoch 9/10\n",
            "97/97 [==============================] - 355s 4s/step - loss: 0.8075 - accuracy: 0.6365 - val_loss: 0.7705 - val_accuracy: 0.6570\n",
            "Epoch 10/10\n",
            "97/97 [==============================] - 355s 4s/step - loss: 0.7555 - accuracy: 0.6843 - val_loss: 0.7549 - val_accuracy: 0.6926\n"
          ],
          "name": "stdout"
        }
      ]
    },
    {
      "cell_type": "code",
      "metadata": {
        "colab": {
          "base_uri": "https://localhost:8080/",
          "height": 204
        },
        "id": "uDt3Xt5G_T-A",
        "outputId": "94927c69-c899-49e4-fa87-2b9189a41785"
      },
      "source": [
        "scores = model.evaluate(x_test, y_test, verbose=1)\n",
        "print(scores)\n",
        "print(\"Доля верных ответов на тестовых данных, в процентах: \", round(scores[1] * 100, 4), \"%\", sep=\"\")"
      ],
      "execution_count": 1,
      "outputs": [
        {
          "output_type": "error",
          "ename": "NameError",
          "evalue": "ignored",
          "traceback": [
            "\u001b[0;31m---------------------------------------------------------------------------\u001b[0m",
            "\u001b[0;31mNameError\u001b[0m                                 Traceback (most recent call last)",
            "\u001b[0;32m<ipython-input-1-01ba9ce9e21a>\u001b[0m in \u001b[0;36m<module>\u001b[0;34m()\u001b[0m\n\u001b[0;32m----> 1\u001b[0;31m \u001b[0mscores\u001b[0m \u001b[0;34m=\u001b[0m \u001b[0mmodel\u001b[0m\u001b[0;34m.\u001b[0m\u001b[0mevaluate\u001b[0m\u001b[0;34m(\u001b[0m\u001b[0mx_test\u001b[0m\u001b[0;34m,\u001b[0m \u001b[0my_test\u001b[0m\u001b[0;34m,\u001b[0m \u001b[0mverbose\u001b[0m\u001b[0;34m=\u001b[0m\u001b[0;36m1\u001b[0m\u001b[0;34m)\u001b[0m\u001b[0;34m\u001b[0m\u001b[0;34m\u001b[0m\u001b[0m\n\u001b[0m\u001b[1;32m      2\u001b[0m \u001b[0mprint\u001b[0m\u001b[0;34m(\u001b[0m\u001b[0mscores\u001b[0m\u001b[0;34m)\u001b[0m\u001b[0;34m\u001b[0m\u001b[0;34m\u001b[0m\u001b[0m\n\u001b[1;32m      3\u001b[0m \u001b[0mprint\u001b[0m\u001b[0;34m(\u001b[0m\u001b[0;34m\"Доля верных ответов на тестовых данных, в процентах: \"\u001b[0m\u001b[0;34m,\u001b[0m \u001b[0mround\u001b[0m\u001b[0;34m(\u001b[0m\u001b[0mscores\u001b[0m\u001b[0;34m[\u001b[0m\u001b[0;36m1\u001b[0m\u001b[0;34m]\u001b[0m \u001b[0;34m*\u001b[0m \u001b[0;36m100\u001b[0m\u001b[0;34m,\u001b[0m \u001b[0;36m4\u001b[0m\u001b[0;34m)\u001b[0m\u001b[0;34m,\u001b[0m \u001b[0;34m\"%\"\u001b[0m\u001b[0;34m,\u001b[0m \u001b[0msep\u001b[0m\u001b[0;34m=\u001b[0m\u001b[0;34m\"\"\u001b[0m\u001b[0;34m)\u001b[0m\u001b[0;34m\u001b[0m\u001b[0;34m\u001b[0m\u001b[0m\n",
            "\u001b[0;31mNameError\u001b[0m: name 'model' is not defined"
          ]
        }
      ]
    },
    {
      "cell_type": "code",
      "metadata": {
        "id": "xXNymjQM_kTw"
      },
      "source": [
        "# Выводим график точности на обучающей выборке\n",
        "# label - имя графика в легенде\n",
        "plt.plot(history.history['accuracy'], \n",
        "         label='Доля верных ответов на обучающем наборе')\n",
        "\n",
        "# Выводим график точности на проверочной выборке\n",
        "plt.plot(history.history['val_accuracy'], \n",
        "         label='Доля верных ответов на проверочном наборе')\n",
        "\n",
        "# Выводим подписи осей\n",
        "plt.xlabel('Эпоха обучения')\n",
        "plt.ylabel('Доля верных ответов')\n",
        "\n",
        "# Выводим легенду\n",
        "plt.legend()\n",
        "plt.show()"
      ],
      "execution_count": null,
      "outputs": []
    },
    {
      "cell_type": "code",
      "metadata": {
        "id": "bB-FhJUP_2CB"
      },
      "source": [
        "plt.plot(history.history['loss'], \n",
        "         label='Ошибка на обучающем наборе')\n",
        "plt.plot(history.history['val_loss'], \n",
        "         label='Ошибка на проверочном наборе')\n",
        "plt.xlabel('Эпоха обучения')\n",
        "plt.ylabel('Ошибка')\n",
        "plt.legend()\n",
        "plt.show()"
      ],
      "execution_count": null,
      "outputs": []
    }
  ]
}