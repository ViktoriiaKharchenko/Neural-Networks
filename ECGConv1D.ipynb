{
  "nbformat": 4,
  "nbformat_minor": 0,
  "metadata": {
    "colab": {
      "name": "ECGConv1D.ipynb",
      "provenance": [],
      "collapsed_sections": [],
      "mount_file_id": "1TJDgi2iJSc2rVixYeOTwsJtHLu3wphPJ",
      "authorship_tag": "ABX9TyM6mfkFnfo13BCyD4EsCRnS",
      "include_colab_link": true
    },
    "kernelspec": {
      "display_name": "Python 3",
      "name": "python3"
    },
    "language_info": {
      "name": "python"
    }
  },
  "cells": [
    {
      "cell_type": "markdown",
      "metadata": {
        "id": "view-in-github",
        "colab_type": "text"
      },
      "source": [
        "<a href=\"https://colab.research.google.com/github/ViktoriiaKharchenko/Neural-Networks/blob/master/ECGConv1D.ipynb\" target=\"_parent\"><img src=\"https://colab.research.google.com/assets/colab-badge.svg\" alt=\"Open In Colab\"/></a>"
      ]
    },
    {
      "cell_type": "code",
      "metadata": {
        "id": "aeVyZX81TzjA"
      },
      "source": [
        "import numpy as np\n",
        "from os import listdir\n",
        "from os.path import isfile, join\n",
        "import pandas as pd\n",
        "import scipy.io as sio\n",
        "import matplotlib.pyplot as plt # Отрисовка изображений\n"
      ],
      "execution_count": 2,
      "outputs": []
    },
    {
      "cell_type": "code",
      "metadata": {
        "id": "wnIiGzUIT1kb"
      },
      "source": [
        "from sklearn.model_selection import train_test_split\n",
        "from tensorflow.keras import utils\n",
        "from sklearn.preprocessing import StandardScaler \n",
        "from tensorflow.keras.models import Sequential \n",
        "from tensorflow.keras.layers import Dense, Activation, Dropout, BatchNormalization,Conv1D, GlobalAveragePooling1D, MaxPooling1D,Flatten\n",
        "from sklearn.preprocessing import MinMaxScaler \n",
        "from tensorflow import keras\n"
      ],
      "execution_count": 3,
      "outputs": []
    },
    {
      "cell_type": "code",
      "metadata": {
        "colab": {
          "base_uri": "https://localhost:8080/"
        },
        "id": "KvWbOBuBT3dR",
        "outputId": "823aa9b3-4bf3-424f-e50a-4f59f4d22bb1"
      },
      "source": [
        "datasetPath = 'drive/MyDrive/Colab Notebooks/filteredData.csv'\n",
        "resultPath = 'drive/MyDrive/Colab Notebooks/result.csv'\n",
        "\n",
        "# X = pd.read_csv(datasetPath, delimiter=',')\n",
        "# Y = pd.read_csv(resultPath, delimiter=',')\n",
        "X = np.genfromtxt(datasetPath,delimiter=',')\n",
        "Y = np.genfromtxt(resultPath,delimiter=',')\n",
        "\n",
        "# X = np.array(X)\n",
        "# Y = np.array(Y)\n",
        "X.reshape(X.shape[0],9000,1)\n",
        "print(X.shape)\n",
        "print(Y)"
      ],
      "execution_count": 4,
      "outputs": [
        {
          "output_type": "stream",
          "text": [
            "(7561, 9000)\n",
            "[0. 0. 0. ... 0. 0. 0.]\n"
          ],
          "name": "stdout"
        }
      ]
    },
    {
      "cell_type": "code",
      "metadata": {
        "colab": {
          "base_uri": "https://localhost:8080/"
        },
        "id": "AgEx5utGUEMi",
        "outputId": "a38277a5-c8e7-413c-8189-d430d913ce96"
      },
      "source": [
        "x_train, x_test, y_train, y_test = train_test_split(X, Y, test_size=0.2, shuffle=True)  \n",
        "# scale_features_std = StandardScaler() \n",
        "# x_train = scale_features_std.fit_transform(x_train) \n",
        "# x_test = scale_features_std.transform(x_test) \n",
        "# scale_features_mm = MinMaxScaler() \n",
        "# x_train = scale_features_mm.fit_transform(x_train) \n",
        "# x_test = scale_features_mm.transform(x_test)\n",
        "x_train = x_train.reshape(x_train.shape[0],9000,1)\n",
        "x_test = x_test.reshape(x_test.shape[0],9000,1)\n",
        "print(x_train.shape)  \n",
        "print(y_train.shape)  \n",
        "print(y_train)"
      ],
      "execution_count": 5,
      "outputs": [
        {
          "output_type": "stream",
          "text": [
            "(6048, 9000, 1)\n",
            "(6048,)\n",
            "[0. 2. 0. ... 0. 0. 2.]\n"
          ],
          "name": "stdout"
        }
      ]
    },
    {
      "cell_type": "code",
      "metadata": {
        "colab": {
          "base_uri": "https://localhost:8080/"
        },
        "id": "3NVR7RXzUJYy",
        "outputId": "1b8556f3-8767-43b0-e9f0-fdf965f4abad"
      },
      "source": [
        "y_train = utils.to_categorical(y_train, 4)\n",
        "y_test = utils.to_categorical(y_test, 4)\n",
        "print(y_train.shape)\n"
      ],
      "execution_count": 6,
      "outputs": [
        {
          "output_type": "stream",
          "text": [
            "(6048, 4)\n"
          ],
          "name": "stdout"
        }
      ]
    },
    {
      "cell_type": "code",
      "metadata": {
        "id": "58s6jlxPUWY4"
      },
      "source": [
        "def create_model():\n",
        "  model = Sequential()\n",
        "  model.add(Conv1D(128, 55, activation='relu', input_shape=(9000, 1)))\n",
        "  model.add(MaxPooling1D(10))\n",
        "  model.add(Dropout(0.5))\n",
        "  model.add(Conv1D(128, 25, activation='relu'))\n",
        "  model.add(MaxPooling1D(5))\n",
        "  model.add(Dropout(0.5))\n",
        "  model.add(Conv1D(128, 10, activation='relu'))\n",
        "  model.add(MaxPooling1D(5))\n",
        "  model.add(Dropout(0.5))\n",
        "  model.add(Conv1D(128, 5, activation='relu'))\n",
        "  model.add(GlobalAveragePooling1D())\n",
        "  #model.add(Flatten())\n",
        "  model.add(Dense(256, kernel_initializer='normal', activation='relu'))\n",
        "  model.add(Dropout(0.5))\n",
        "  model.add(Dense(128, kernel_initializer='normal', activation='relu'))\n",
        "  model.add(Dropout(0.5))\n",
        "  model.add(Dense(64, kernel_initializer='normal', activation='relu'))\n",
        "  model.add(Dropout(0.5))\n",
        "  model.add(Dense(4, kernel_initializer='normal', activation='softmax'))\n",
        "  model.compile(loss='categorical_crossentropy', optimizer='adam', metrics=['accuracy'])\n",
        "  return model  "
      ],
      "execution_count": 12,
      "outputs": []
    },
    {
      "cell_type": "code",
      "metadata": {
        "colab": {
          "base_uri": "https://localhost:8080/"
        },
        "id": "Pr4vHP8mUMgq",
        "outputId": "18672c77-8ae9-41df-d5e7-7365b01e4c91"
      },
      "source": [
        "# Создаём пустую сеть\n",
        "model = create_model()\n",
        "\n",
        "# Обучаем сеть\n",
        "history = model.fit(x_train, \n",
        "          y_train,\n",
        "          batch_size=300, \n",
        "          epochs=100,\n",
        "          validation_split=0.2, # Указываем 20% случайных примеров для проверочной выборки\n",
        "          verbose=1)"
      ],
      "execution_count": 13,
      "outputs": [
        {
          "output_type": "stream",
          "text": [
            "Epoch 1/100\n",
            "17/17 [==============================] - 339s 20s/step - loss: 2.0770 - accuracy: 0.4110 - val_loss: 1.1256 - val_accuracy: 0.5868\n",
            "Epoch 2/100\n",
            "17/17 [==============================] - 338s 20s/step - loss: 1.0416 - accuracy: 0.5781 - val_loss: 1.0640 - val_accuracy: 0.5868\n",
            "Epoch 3/100\n",
            "17/17 [==============================] - 337s 20s/step - loss: 0.9565 - accuracy: 0.5942 - val_loss: 0.9358 - val_accuracy: 0.5868\n",
            "Epoch 4/100\n",
            "17/17 [==============================] - 337s 20s/step - loss: 0.9184 - accuracy: 0.6045 - val_loss: 0.9200 - val_accuracy: 0.5868\n",
            "Epoch 5/100\n",
            "17/17 [==============================] - 336s 20s/step - loss: 0.8951 - accuracy: 0.5993 - val_loss: 0.9372 - val_accuracy: 0.5868\n",
            "Epoch 6/100\n",
            "17/17 [==============================] - 335s 20s/step - loss: 0.9253 - accuracy: 0.6016 - val_loss: 0.8991 - val_accuracy: 0.5868\n",
            "Epoch 7/100\n",
            "17/17 [==============================] - 335s 20s/step - loss: 0.8730 - accuracy: 0.6070 - val_loss: 0.8674 - val_accuracy: 0.5868\n",
            "Epoch 8/100\n",
            "17/17 [==============================] - 336s 20s/step - loss: 0.8339 - accuracy: 0.6100 - val_loss: 0.8611 - val_accuracy: 0.5868\n",
            "Epoch 9/100\n",
            "17/17 [==============================] - 335s 20s/step - loss: 0.8373 - accuracy: 0.6036 - val_loss: 0.8565 - val_accuracy: 0.6174\n",
            "Epoch 10/100\n",
            "17/17 [==============================] - 335s 20s/step - loss: 0.8162 - accuracy: 0.6464 - val_loss: 0.8412 - val_accuracy: 0.6331\n",
            "Epoch 11/100\n",
            "17/17 [==============================] - 335s 20s/step - loss: 0.7945 - accuracy: 0.6784 - val_loss: 0.8722 - val_accuracy: 0.6256\n",
            "Epoch 12/100\n",
            "17/17 [==============================] - 335s 20s/step - loss: 0.7661 - accuracy: 0.6914 - val_loss: 0.7257 - val_accuracy: 0.7008\n",
            "Epoch 13/100\n",
            "17/17 [==============================] - 335s 20s/step - loss: 0.7741 - accuracy: 0.6864 - val_loss: 0.8403 - val_accuracy: 0.6545\n",
            "Epoch 14/100\n",
            "17/17 [==============================] - 335s 20s/step - loss: 0.7354 - accuracy: 0.7066 - val_loss: 0.7069 - val_accuracy: 0.6760\n",
            "Epoch 15/100\n",
            "17/17 [==============================] - 335s 20s/step - loss: 0.7103 - accuracy: 0.7055 - val_loss: 0.6971 - val_accuracy: 0.7058\n",
            "Epoch 16/100\n",
            "17/17 [==============================] - 335s 20s/step - loss: 0.6891 - accuracy: 0.7224 - val_loss: 0.6808 - val_accuracy: 0.6868\n",
            "Epoch 17/100\n",
            "17/17 [==============================] - 335s 20s/step - loss: 0.6593 - accuracy: 0.7223 - val_loss: 0.6700 - val_accuracy: 0.7174\n",
            "Epoch 18/100\n",
            "17/17 [==============================] - 335s 20s/step - loss: 0.6554 - accuracy: 0.7288 - val_loss: 0.6583 - val_accuracy: 0.7083\n",
            "Epoch 19/100\n",
            "17/17 [==============================] - 335s 20s/step - loss: 0.6479 - accuracy: 0.7281 - val_loss: 0.6203 - val_accuracy: 0.7248\n",
            "Epoch 20/100\n",
            "17/17 [==============================] - 335s 20s/step - loss: 0.6891 - accuracy: 0.7261 - val_loss: 0.6145 - val_accuracy: 0.7289\n",
            "Epoch 21/100\n",
            "17/17 [==============================] - 335s 20s/step - loss: 0.6338 - accuracy: 0.7443 - val_loss: 0.6527 - val_accuracy: 0.7479\n",
            "Epoch 22/100\n",
            "17/17 [==============================] - 335s 20s/step - loss: 0.6557 - accuracy: 0.7324 - val_loss: 0.5974 - val_accuracy: 0.7355\n",
            "Epoch 23/100\n",
            "17/17 [==============================] - 335s 20s/step - loss: 0.6154 - accuracy: 0.7513 - val_loss: 0.6356 - val_accuracy: 0.7339\n",
            "Epoch 24/100\n",
            "17/17 [==============================] - 335s 20s/step - loss: 0.6197 - accuracy: 0.7466 - val_loss: 0.6133 - val_accuracy: 0.7653\n",
            "Epoch 25/100\n",
            "17/17 [==============================] - 335s 20s/step - loss: 0.6125 - accuracy: 0.7626 - val_loss: 0.6295 - val_accuracy: 0.7421\n",
            "Epoch 26/100\n",
            "17/17 [==============================] - 335s 20s/step - loss: 0.6124 - accuracy: 0.7432 - val_loss: 0.6204 - val_accuracy: 0.7446\n",
            "Epoch 27/100\n",
            "17/17 [==============================] - 336s 20s/step - loss: 0.5854 - accuracy: 0.7561 - val_loss: 0.6022 - val_accuracy: 0.7545\n",
            "Epoch 28/100\n",
            "17/17 [==============================] - 335s 20s/step - loss: 0.5874 - accuracy: 0.7496 - val_loss: 0.6078 - val_accuracy: 0.7636\n",
            "Epoch 29/100\n",
            "17/17 [==============================] - 335s 20s/step - loss: 0.5623 - accuracy: 0.7690 - val_loss: 0.5721 - val_accuracy: 0.7752\n",
            "Epoch 30/100\n",
            "17/17 [==============================] - 336s 20s/step - loss: 0.5602 - accuracy: 0.7732 - val_loss: 0.5941 - val_accuracy: 0.7413\n",
            "Epoch 31/100\n",
            "17/17 [==============================] - 336s 20s/step - loss: 0.5673 - accuracy: 0.7678 - val_loss: 0.5444 - val_accuracy: 0.7702\n",
            "Epoch 32/100\n",
            "17/17 [==============================] - 337s 20s/step - loss: 0.5768 - accuracy: 0.7745 - val_loss: 0.5469 - val_accuracy: 0.7686\n",
            "Epoch 33/100\n",
            "17/17 [==============================] - 336s 20s/step - loss: 0.5876 - accuracy: 0.7684 - val_loss: 0.5496 - val_accuracy: 0.7802\n",
            "Epoch 34/100\n",
            "17/17 [==============================] - 339s 20s/step - loss: 0.5646 - accuracy: 0.7690 - val_loss: 0.5584 - val_accuracy: 0.7694\n",
            "Epoch 35/100\n",
            "17/17 [==============================] - 338s 20s/step - loss: 0.5541 - accuracy: 0.7836 - val_loss: 0.6312 - val_accuracy: 0.7917\n",
            "Epoch 36/100\n",
            "17/17 [==============================] - 339s 20s/step - loss: 0.5536 - accuracy: 0.7856 - val_loss: 0.6168 - val_accuracy: 0.7909\n",
            "Epoch 37/100\n",
            "17/17 [==============================] - 338s 20s/step - loss: 0.5405 - accuracy: 0.7806 - val_loss: 0.5710 - val_accuracy: 0.7736\n",
            "Epoch 38/100\n",
            "17/17 [==============================] - 339s 20s/step - loss: 0.5364 - accuracy: 0.7728 - val_loss: 0.5782 - val_accuracy: 0.7901\n",
            "Epoch 39/100\n",
            "17/17 [==============================] - 339s 20s/step - loss: 0.5333 - accuracy: 0.7760 - val_loss: 0.5357 - val_accuracy: 0.7876\n",
            "Epoch 40/100\n",
            "17/17 [==============================] - 338s 20s/step - loss: 0.5457 - accuracy: 0.7859 - val_loss: 0.5243 - val_accuracy: 0.7950\n",
            "Epoch 41/100\n",
            "17/17 [==============================] - 338s 20s/step - loss: 0.5422 - accuracy: 0.7822 - val_loss: 0.5545 - val_accuracy: 0.7752\n",
            "Epoch 42/100\n",
            "17/17 [==============================] - 338s 20s/step - loss: 0.5800 - accuracy: 0.7689 - val_loss: 0.6030 - val_accuracy: 0.7893\n",
            "Epoch 43/100\n",
            "17/17 [==============================] - 338s 20s/step - loss: 0.5146 - accuracy: 0.7961 - val_loss: 0.5468 - val_accuracy: 0.8008\n",
            "Epoch 44/100\n",
            "17/17 [==============================] - 338s 20s/step - loss: 0.5148 - accuracy: 0.7993 - val_loss: 0.6014 - val_accuracy: 0.8041\n",
            "Epoch 45/100\n",
            "17/17 [==============================] - 338s 20s/step - loss: 0.5115 - accuracy: 0.7977 - val_loss: 0.5812 - val_accuracy: 0.7959\n",
            "Epoch 46/100\n",
            "17/17 [==============================] - 338s 20s/step - loss: 0.5112 - accuracy: 0.8012 - val_loss: 0.5453 - val_accuracy: 0.7901\n",
            "Epoch 47/100\n",
            "17/17 [==============================] - 338s 20s/step - loss: 0.5163 - accuracy: 0.7934 - val_loss: 0.6052 - val_accuracy: 0.8025\n",
            "Epoch 48/100\n",
            "17/17 [==============================] - 338s 20s/step - loss: 0.5185 - accuracy: 0.7962 - val_loss: 0.6293 - val_accuracy: 0.8000\n",
            "Epoch 49/100\n",
            "17/17 [==============================] - 338s 20s/step - loss: 0.5502 - accuracy: 0.7878 - val_loss: 0.6376 - val_accuracy: 0.7901\n",
            "Epoch 50/100\n",
            "17/17 [==============================] - 339s 20s/step - loss: 0.5219 - accuracy: 0.8075 - val_loss: 0.5676 - val_accuracy: 0.8041\n",
            "Epoch 51/100\n",
            "17/17 [==============================] - 341s 20s/step - loss: 0.5239 - accuracy: 0.8006 - val_loss: 0.5273 - val_accuracy: 0.8149\n",
            "Epoch 52/100\n",
            "17/17 [==============================] - 350s 21s/step - loss: 0.4839 - accuracy: 0.8122 - val_loss: 0.5426 - val_accuracy: 0.8182\n",
            "Epoch 53/100\n",
            "17/17 [==============================] - 352s 21s/step - loss: 0.4988 - accuracy: 0.8118 - val_loss: 0.5414 - val_accuracy: 0.8083\n",
            "Epoch 54/100\n",
            "17/17 [==============================] - 344s 20s/step - loss: 0.4930 - accuracy: 0.8132 - val_loss: 0.5032 - val_accuracy: 0.8091\n",
            "Epoch 55/100\n",
            "17/17 [==============================] - 345s 20s/step - loss: 0.4757 - accuracy: 0.8257 - val_loss: 0.5012 - val_accuracy: 0.8083\n",
            "Epoch 56/100\n",
            "17/17 [==============================] - 347s 20s/step - loss: 0.5073 - accuracy: 0.8146 - val_loss: 0.5775 - val_accuracy: 0.8132\n",
            "Epoch 57/100\n",
            "17/17 [==============================] - 350s 21s/step - loss: 0.4923 - accuracy: 0.8144 - val_loss: 0.5082 - val_accuracy: 0.8248\n",
            "Epoch 58/100\n",
            "17/17 [==============================] - 349s 21s/step - loss: 0.5095 - accuracy: 0.8098 - val_loss: 0.5780 - val_accuracy: 0.8000\n",
            "Epoch 59/100\n",
            "17/17 [==============================] - 347s 20s/step - loss: 0.4729 - accuracy: 0.8166 - val_loss: 0.5268 - val_accuracy: 0.8132\n",
            "Epoch 60/100\n",
            "17/17 [==============================] - 344s 20s/step - loss: 0.4785 - accuracy: 0.8277 - val_loss: 0.5051 - val_accuracy: 0.8207\n",
            "Epoch 61/100\n",
            "17/17 [==============================] - 344s 20s/step - loss: 0.4526 - accuracy: 0.8248 - val_loss: 0.5299 - val_accuracy: 0.8231\n",
            "Epoch 62/100\n",
            "17/17 [==============================] - 347s 20s/step - loss: 0.4664 - accuracy: 0.8236 - val_loss: 0.4850 - val_accuracy: 0.8306\n",
            "Epoch 63/100\n",
            "17/17 [==============================] - 338s 20s/step - loss: 0.4613 - accuracy: 0.8263 - val_loss: 0.5239 - val_accuracy: 0.8157\n",
            "Epoch 64/100\n",
            "17/17 [==============================] - 337s 20s/step - loss: 0.4549 - accuracy: 0.8261 - val_loss: 0.5114 - val_accuracy: 0.8215\n",
            "Epoch 65/100\n",
            "17/17 [==============================] - 337s 20s/step - loss: 0.4841 - accuracy: 0.8170 - val_loss: 0.5222 - val_accuracy: 0.8149\n",
            "Epoch 66/100\n",
            "17/17 [==============================] - 337s 20s/step - loss: 0.4618 - accuracy: 0.8173 - val_loss: 0.4888 - val_accuracy: 0.8223\n",
            "Epoch 67/100\n",
            "17/17 [==============================] - 338s 20s/step - loss: 0.4721 - accuracy: 0.8210 - val_loss: 0.4815 - val_accuracy: 0.8273\n",
            "Epoch 68/100\n",
            "17/17 [==============================] - 339s 20s/step - loss: 0.4681 - accuracy: 0.8231 - val_loss: 0.5696 - val_accuracy: 0.8240\n",
            "Epoch 69/100\n",
            "17/17 [==============================] - 341s 20s/step - loss: 0.4481 - accuracy: 0.8386 - val_loss: 0.5161 - val_accuracy: 0.8165\n",
            "Epoch 70/100\n",
            "17/17 [==============================] - 339s 20s/step - loss: 0.4536 - accuracy: 0.8275 - val_loss: 0.5261 - val_accuracy: 0.8215\n",
            "Epoch 71/100\n",
            "17/17 [==============================] - 340s 20s/step - loss: 0.4445 - accuracy: 0.8275 - val_loss: 0.4661 - val_accuracy: 0.8298\n",
            "Epoch 72/100\n",
            "17/17 [==============================] - 341s 20s/step - loss: 0.4471 - accuracy: 0.8251 - val_loss: 0.5337 - val_accuracy: 0.8306\n",
            "Epoch 73/100\n",
            "17/17 [==============================] - 342s 20s/step - loss: 0.4700 - accuracy: 0.8180 - val_loss: 0.5395 - val_accuracy: 0.8264\n",
            "Epoch 74/100\n",
            "17/17 [==============================] - 342s 20s/step - loss: 0.4889 - accuracy: 0.8223 - val_loss: 0.5194 - val_accuracy: 0.8157\n",
            "Epoch 75/100\n",
            "17/17 [==============================] - 340s 20s/step - loss: 0.4409 - accuracy: 0.8269 - val_loss: 0.5537 - val_accuracy: 0.8240\n",
            "Epoch 76/100\n",
            "17/17 [==============================] - 339s 20s/step - loss: 0.4596 - accuracy: 0.8333 - val_loss: 0.5058 - val_accuracy: 0.8140\n",
            "Epoch 77/100\n",
            "17/17 [==============================] - 339s 20s/step - loss: 0.4420 - accuracy: 0.8420 - val_loss: 0.5272 - val_accuracy: 0.8339\n",
            "Epoch 78/100\n",
            "17/17 [==============================] - 341s 20s/step - loss: 0.4327 - accuracy: 0.8379 - val_loss: 0.5034 - val_accuracy: 0.8273\n",
            "Epoch 79/100\n",
            "17/17 [==============================] - 343s 20s/step - loss: 0.4648 - accuracy: 0.8357 - val_loss: 0.4916 - val_accuracy: 0.8207\n",
            "Epoch 80/100\n",
            "17/17 [==============================] - 343s 20s/step - loss: 0.4390 - accuracy: 0.8376 - val_loss: 0.4811 - val_accuracy: 0.8364\n",
            "Epoch 81/100\n",
            "17/17 [==============================] - 342s 20s/step - loss: 0.4284 - accuracy: 0.8329 - val_loss: 0.5138 - val_accuracy: 0.8182\n",
            "Epoch 82/100\n",
            "17/17 [==============================] - 343s 20s/step - loss: 0.4279 - accuracy: 0.8372 - val_loss: 0.5372 - val_accuracy: 0.8223\n",
            "Epoch 83/100\n",
            "17/17 [==============================] - 349s 21s/step - loss: 0.4277 - accuracy: 0.8449 - val_loss: 0.5196 - val_accuracy: 0.8240\n",
            "Epoch 84/100\n",
            "17/17 [==============================] - 341s 20s/step - loss: 0.4105 - accuracy: 0.8437 - val_loss: 0.5171 - val_accuracy: 0.8165\n",
            "Epoch 85/100\n",
            "17/17 [==============================] - 340s 20s/step - loss: 0.4284 - accuracy: 0.8344 - val_loss: 0.5210 - val_accuracy: 0.8124\n",
            "Epoch 86/100\n",
            "17/17 [==============================] - 339s 20s/step - loss: 0.4295 - accuracy: 0.8345 - val_loss: 0.5158 - val_accuracy: 0.8240\n",
            "Epoch 87/100\n",
            "17/17 [==============================] - 339s 20s/step - loss: 0.4169 - accuracy: 0.8421 - val_loss: 0.4872 - val_accuracy: 0.8355\n",
            "Epoch 88/100\n",
            "17/17 [==============================] - 339s 20s/step - loss: 0.4064 - accuracy: 0.8490 - val_loss: 0.4872 - val_accuracy: 0.8231\n",
            "Epoch 89/100\n",
            "17/17 [==============================] - 338s 20s/step - loss: 0.4248 - accuracy: 0.8433 - val_loss: 0.4947 - val_accuracy: 0.8405\n",
            "Epoch 90/100\n",
            "17/17 [==============================] - 339s 20s/step - loss: 0.4126 - accuracy: 0.8438 - val_loss: 0.5232 - val_accuracy: 0.8273\n",
            "Epoch 91/100\n",
            "17/17 [==============================] - 339s 20s/step - loss: 0.4241 - accuracy: 0.8438 - val_loss: 0.5170 - val_accuracy: 0.8364\n",
            "Epoch 92/100\n",
            "17/17 [==============================] - 338s 20s/step - loss: 0.4223 - accuracy: 0.8381 - val_loss: 0.5042 - val_accuracy: 0.8248\n",
            "Epoch 93/100\n",
            "17/17 [==============================] - 338s 20s/step - loss: 0.4074 - accuracy: 0.8521 - val_loss: 0.5011 - val_accuracy: 0.8289\n",
            "Epoch 94/100\n",
            "17/17 [==============================] - 339s 20s/step - loss: 0.4259 - accuracy: 0.8466 - val_loss: 0.5081 - val_accuracy: 0.8322\n",
            "Epoch 95/100\n",
            "17/17 [==============================] - 339s 20s/step - loss: 0.4192 - accuracy: 0.8449 - val_loss: 0.4764 - val_accuracy: 0.8347\n",
            "Epoch 96/100\n",
            "17/17 [==============================] - 340s 20s/step - loss: 0.4115 - accuracy: 0.8435 - val_loss: 0.4752 - val_accuracy: 0.8388\n",
            "Epoch 97/100\n",
            "17/17 [==============================] - 340s 20s/step - loss: 0.4222 - accuracy: 0.8374 - val_loss: 0.4944 - val_accuracy: 0.8231\n",
            "Epoch 98/100\n",
            "17/17 [==============================] - 339s 20s/step - loss: 0.4340 - accuracy: 0.8330 - val_loss: 0.4860 - val_accuracy: 0.8322\n",
            "Epoch 99/100\n",
            "17/17 [==============================] - 339s 20s/step - loss: 0.4114 - accuracy: 0.8440 - val_loss: 0.5171 - val_accuracy: 0.8347\n",
            "Epoch 100/100\n",
            "17/17 [==============================] - 340s 20s/step - loss: 0.4276 - accuracy: 0.8466 - val_loss: 0.4676 - val_accuracy: 0.8273\n"
          ],
          "name": "stdout"
        }
      ]
    },
    {
      "cell_type": "code",
      "metadata": {
        "colab": {
          "base_uri": "https://localhost:8080/"
        },
        "id": "uDt3Xt5G_T-A",
        "outputId": "fb3e5e58-63f0-4ee3-85b4-de8a308ff2e6"
      },
      "source": [
        "model.save_weights('model.h5')\n",
        "scores = model.evaluate(x_test, y_test, verbose=1)\n",
        "print(scores)\n",
        "print(\"Доля верных ответов на тестовых данных, в процентах: \", round(scores[1] * 100, 4), \"%\", sep=\"\")"
      ],
      "execution_count": 14,
      "outputs": [
        {
          "output_type": "stream",
          "text": [
            "48/48 [==============================] - 27s 554ms/step - loss: 0.4760 - accuracy: 0.8308\n",
            "[0.47599706053733826, 0.8307997584342957]\n",
            "Доля верных ответов на тестовых данных, в процентах: 83.08%\n"
          ],
          "name": "stdout"
        }
      ]
    },
    {
      "cell_type": "code",
      "metadata": {
        "colab": {
          "base_uri": "https://localhost:8080/",
          "height": 279
        },
        "id": "xXNymjQM_kTw",
        "outputId": "fcc2f4d3-645d-44dd-ec38-151441aa1884"
      },
      "source": [
        "# Выводим график точности на обучающей выборке\n",
        "# label - имя графика в легенде\n",
        "plt.plot(history.history['accuracy'], \n",
        "         label='Доля верных ответов на обучающем наборе')\n",
        "\n",
        "# Выводим график точности на проверочной выборке\n",
        "plt.plot(history.history['val_accuracy'], \n",
        "         label='Доля верных ответов на проверочном наборе')\n",
        "\n",
        "# Выводим подписи осей\n",
        "plt.xlabel('Эпоха обучения')\n",
        "plt.ylabel('Доля верных ответов')\n",
        "\n",
        "# Выводим легенду\n",
        "plt.legend()\n",
        "plt.show()"
      ],
      "execution_count": 15,
      "outputs": [
        {
          "output_type": "display_data",
          "data": {
            "image/png": "[encoded data removed]",
            "text/plain": [
              "<Figure size 432x288 with 1 Axes>"
            ]
          },
          "metadata": {
            "tags": [],
            "needs_background": "light"
          }
        }
      ]
    },
    {
      "cell_type": "code",
      "metadata": {
        "colab": {
          "base_uri": "https://localhost:8080/",
          "height": 279
        },
        "id": "bB-FhJUP_2CB",
        "outputId": "1aee38a5-4aa4-47ea-9b93-79934e64a390"
      },
      "source": [
        "plt.plot(history.history['loss'], \n",
        "         label='Ошибка на обучающем наборе')\n",
        "plt.plot(history.history['val_loss'], \n",
        "         label='Ошибка на проверочном наборе')\n",
        "plt.xlabel('Эпоха обучения')\n",
        "plt.ylabel('Ошибка')\n",
        "plt.legend()\n",
        "plt.show()"
      ],
      "execution_count": 16,
      "outputs": [
        {
          "output_type": "display_data",
          "data": {
            "image/png": "[encoded data removed]",
            "text/plain": [
              "<Figure size 432x288 with 1 Axes>"
            ]
          },
          "metadata": {
            "tags": [],
            "needs_background": "light"
          }
        }
      ]
    }
  ]
}